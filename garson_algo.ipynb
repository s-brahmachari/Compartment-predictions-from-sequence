{
 "cells": [
  {
   "cell_type": "code",
   "execution_count": 1,
   "metadata": {},
   "outputs": [],
   "source": [
    "import numpy as np\n",
    "import copy\n",
    "import pandas as pd\n",
    "from sklearn.model_selection import train_test_split\n",
    "import matplotlib.pyplot as plt\n",
    "import tensorflow as tf\n",
    "from tensorflow import keras\n",
    "from tensorflow.keras import layers\n",
    "import preprocessing_modules as pm"
   ]
  },
  {
   "cell_type": "code",
   "execution_count": 2,
   "metadata": {},
   "outputs": [
    {
     "name": "stdout",
     "output_type": "stream",
     "text": [
      "Selected cell line to predict: GM12878\n",
      "Selected assembly: hg19\n",
      "Selected signal type: signal p-value\n",
      "Selected resolution:  100 kb\n"
     ]
    }
   ],
   "source": [
    "enc=pm.ENCODE_data(cell_line='GM12878', assembly='hg19', res=100000 ,histones=False, total_rna=True, tf=False)"
   ]
  },
  {
   "cell_type": "code",
   "execution_count": 3,
   "metadata": {},
   "outputs": [
    {
     "name": "stdout",
     "output_type": "stream",
     "text": [
      "Loading data from: ENCODE_data/GM12878_hg19_100k\n",
      "There are 1 tracks: ['RNA']\n",
      "Number of chromosomes:22\n",
      "\n",
      "Normalizing data...\n",
      "done!\n"
     ]
    }
   ],
   "source": [
    "df_x,labels=enc.get_training_data(n_neighbor=2)"
   ]
  },
  {
   "cell_type": "code",
   "execution_count": 4,
   "metadata": {},
   "outputs": [
    {
     "name": "stdout",
     "output_type": "stream",
     "text": [
      "(19669, 5) (19669,) (6557, 5) (6557,)\n"
     ]
    }
   ],
   "source": [
    "X_train, X_test, Y_train, Y_test = train_test_split(df_x.to_numpy(), labels, test_size=0.25, random_state=1223)\n",
    "\n",
    "print(X_train.shape, Y_train.shape, X_test.shape, Y_test.shape)"
   ]
  },
  {
   "cell_type": "code",
   "execution_count": 5,
   "metadata": {},
   "outputs": [],
   "source": [
    "learning_rate = 0.002\n",
    "dropout_rate = 0.2\n",
    "num_epochs = 30\n",
    "batch_size = 64\n",
    "num_features=df_x.shape[1]\n",
    "num_classes=2"
   ]
  },
  {
   "cell_type": "code",
   "execution_count": 6,
   "metadata": {},
   "outputs": [],
   "source": [
    "def run_experiment(model, x_train, y_train):\n",
    "    # Compile the model.\n",
    "    model.compile(\n",
    "        optimizer=keras.optimizers.Adam(learning_rate),\n",
    "        loss=keras.losses.SparseCategoricalCrossentropy(from_logits=True),\n",
    "        metrics=[keras.metrics.SparseCategoricalAccuracy(name=\"accuracy\")],\n",
    "    )\n",
    "    # Create an early stopping callback.\n",
    "    early_stopping = keras.callbacks.EarlyStopping(\n",
    "        monitor=\"val_accuracy\", patience=50, restore_best_weights=True\n",
    "    )\n",
    "    # Fit the model.\n",
    "    history = model.fit(\n",
    "        x=x_train,\n",
    "        y=y_train,\n",
    "        epochs=num_epochs,\n",
    "        batch_size=batch_size,\n",
    "        validation_split=0.15,\n",
    "        callbacks=[early_stopping],\n",
    "    )\n",
    "\n",
    "    return history\n",
    "\n",
    "def display_learning_curves(history):\n",
    "    fig, (ax1, ax2) = plt.subplots(1, 2, figsize=(15, 5))\n",
    "\n",
    "    ax1.plot(history.history[\"loss\"])\n",
    "    ax1.plot(history.history[\"val_loss\"])\n",
    "    ax1.legend([\"train\", \"test\"], loc=\"upper right\")\n",
    "    ax1.set_xlabel(\"Epochs\")\n",
    "    ax1.set_ylabel(\"Loss\")\n",
    "\n",
    "    ax2.plot(history.history[\"accuracy\"])\n",
    "    ax2.plot(history.history[\"val_accuracy\"])\n",
    "    ax2.legend([\"train\", \"test\"], loc=\"upper right\")\n",
    "    ax2.set_xlabel(\"Epochs\")\n",
    "    ax2.set_ylabel(\"Accuracy\")\n",
    "    plt.show()\n",
    "\n",
    "def create_ffn(hidden_units, dropout_rate, name=None):\n",
    "    fnn_layers = []\n",
    "\n",
    "    for units in hidden_units:\n",
    "        fnn_layers.append(layers.BatchNormalization())\n",
    "        fnn_layers.append(layers.Dropout(dropout_rate))\n",
    "        fnn_layers.append(layers.Dense(units, activation=tf.nn.gelu))\n",
    "\n",
    "    return keras.Sequential(fnn_layers, name=name)\n",
    "\n",
    "def create_baseline_model(num_classes, dropout_rate=0.2):\n",
    "    inputs = layers.Input(shape=(num_features,), name=\"input_features\")\n",
    "    \n",
    "    x = create_ffn([32,32], dropout_rate, name=f\"ffn_block1\")(inputs)\n",
    "    # x = create_ffn([64], dropout_rate, name=f\"ffn_block2\")(x)\n",
    "    for block_ndx in range(2):\n",
    "        x1 = create_ffn([32,32], dropout_rate, name=f\"ffn_block{block_ndx+3}\")(x)\n",
    "        x = layers.Add(name=f\"skip_connection{block_ndx+1}\")([x, x1])\n",
    "\n",
    "    x = create_ffn([16], dropout_rate, name=f\"ffn_block{block_ndx+4}\")(x)\n",
    "    \n",
    "    # Compute logits.\n",
    "    logits = layers.Dense(num_classes, name=\"logits\")(x)\n",
    "    # Create the model.\n",
    "    return keras.Model(inputs=inputs, outputs=logits, name=\"baseline\")\n"
   ]
  },
  {
   "cell_type": "code",
   "execution_count": 7,
   "metadata": {},
   "outputs": [
    {
     "name": "stderr",
     "output_type": "stream",
     "text": [
      "2022-11-02 16:16:39.993207: I tensorflow/core/common_runtime/pluggable_device/pluggable_device_factory.cc:306] Could not identify NUMA node of platform GPU ID 0, defaulting to 0. Your kernel may not have been built with NUMA support.\n",
      "2022-11-02 16:16:39.993362: I tensorflow/core/common_runtime/pluggable_device/pluggable_device_factory.cc:272] Created TensorFlow device (/job:localhost/replica:0/task:0/device:GPU:0 with 0 MB memory) -> physical PluggableDevice (device: 0, name: METAL, pci bus id: <undefined>)\n"
     ]
    },
    {
     "name": "stdout",
     "output_type": "stream",
     "text": [
      "Metal device set to: Apple M1 Max\n",
      "\n",
      "systemMemory: 64.00 GB\n",
      "maxCacheSize: 24.00 GB\n",
      "\n",
      "Model: \"baseline\"\n",
      "__________________________________________________________________________________________________\n",
      " Layer (type)                   Output Shape         Param #     Connected to                     \n",
      "==================================================================================================\n",
      " input_features (InputLayer)    [(None, 5)]          0           []                               \n",
      "                                                                                                  \n",
      " ffn_block1 (Sequential)        (None, 32)           1396        ['input_features[0][0]']         \n",
      "                                                                                                  \n",
      " ffn_block3 (Sequential)        (None, 32)           2368        ['ffn_block1[0][0]']             \n",
      "                                                                                                  \n",
      " skip_connection1 (Add)         (None, 32)           0           ['ffn_block1[0][0]',             \n",
      "                                                                  'ffn_block3[0][0]']             \n",
      "                                                                                                  \n",
      " ffn_block4 (Sequential)        (None, 32)           2368        ['skip_connection1[0][0]']       \n",
      "                                                                                                  \n",
      " skip_connection2 (Add)         (None, 32)           0           ['skip_connection1[0][0]',       \n",
      "                                                                  'ffn_block4[0][0]']             \n",
      "                                                                                                  \n",
      " ffn_block5 (Sequential)        (None, 16)           656         ['skip_connection2[0][0]']       \n",
      "                                                                                                  \n",
      " logits (Dense)                 (None, 2)            34          ['ffn_block5[0][0]']             \n",
      "                                                                                                  \n",
      "==================================================================================================\n",
      "Total params: 6,822\n",
      "Trainable params: 6,428\n",
      "Non-trainable params: 394\n",
      "__________________________________________________________________________________________________\n"
     ]
    }
   ],
   "source": [
    "baseline_model = create_baseline_model(num_classes, dropout_rate)\n",
    "\n",
    "baseline_model.summary()"
   ]
  },
  {
   "cell_type": "code",
   "execution_count": 8,
   "metadata": {},
   "outputs": [
    {
     "name": "stdout",
     "output_type": "stream",
     "text": [
      "Epoch 1/30\n"
     ]
    },
    {
     "name": "stderr",
     "output_type": "stream",
     "text": [
      "2022-11-02 16:17:04.172339: W tensorflow/core/platform/profile_utils/cpu_utils.cc:128] Failed to get CPU frequency: 0 Hz\n",
      "2022-11-02 16:17:04.865395: I tensorflow/core/grappler/optimizers/custom_graph_optimizer_registry.cc:114] Plugin optimizer for device_type GPU is enabled.\n"
     ]
    },
    {
     "name": "stdout",
     "output_type": "stream",
     "text": [
      "262/262 [==============================] - ETA: 0s - loss: 0.4271 - accuracy: 0.8061"
     ]
    },
    {
     "name": "stderr",
     "output_type": "stream",
     "text": [
      "2022-11-02 16:17:12.695134: I tensorflow/core/grappler/optimizers/custom_graph_optimizer_registry.cc:114] Plugin optimizer for device_type GPU is enabled.\n"
     ]
    },
    {
     "name": "stdout",
     "output_type": "stream",
     "text": [
      "262/262 [==============================] - 9s 29ms/step - loss: 0.4271 - accuracy: 0.8061 - val_loss: 0.4638 - val_accuracy: 0.7940\n",
      "Epoch 2/30\n",
      "262/262 [==============================] - 7s 25ms/step - loss: 0.3800 - accuracy: 0.8326 - val_loss: 0.3891 - val_accuracy: 0.8367\n",
      "Epoch 3/30\n",
      "262/262 [==============================] - 7s 25ms/step - loss: 0.3705 - accuracy: 0.8362 - val_loss: 0.3586 - val_accuracy: 0.8489\n",
      "Epoch 4/30\n",
      "262/262 [==============================] - 6s 24ms/step - loss: 0.3625 - accuracy: 0.8416 - val_loss: 0.3542 - val_accuracy: 0.8516\n",
      "Epoch 5/30\n",
      "262/262 [==============================] - 6s 24ms/step - loss: 0.3612 - accuracy: 0.8417 - val_loss: 0.3498 - val_accuracy: 0.8478\n",
      "Epoch 6/30\n",
      "262/262 [==============================] - 6s 24ms/step - loss: 0.3586 - accuracy: 0.8420 - val_loss: 0.3513 - val_accuracy: 0.8533\n",
      "Epoch 7/30\n",
      "262/262 [==============================] - 7s 25ms/step - loss: 0.3592 - accuracy: 0.8442 - val_loss: 0.3524 - val_accuracy: 0.8475\n",
      "Epoch 8/30\n",
      "262/262 [==============================] - 7s 27ms/step - loss: 0.3541 - accuracy: 0.8454 - val_loss: 0.3473 - val_accuracy: 0.8472\n",
      "Epoch 9/30\n",
      "262/262 [==============================] - 7s 27ms/step - loss: 0.3543 - accuracy: 0.8454 - val_loss: 0.3456 - val_accuracy: 0.8502\n",
      "Epoch 10/30\n",
      "262/262 [==============================] - 7s 26ms/step - loss: 0.3514 - accuracy: 0.8467 - val_loss: 0.3528 - val_accuracy: 0.8502\n",
      "Epoch 11/30\n",
      "262/262 [==============================] - 7s 26ms/step - loss: 0.3516 - accuracy: 0.8472 - val_loss: 0.3469 - val_accuracy: 0.8495\n",
      "Epoch 12/30\n",
      "262/262 [==============================] - 6s 25ms/step - loss: 0.3494 - accuracy: 0.8453 - val_loss: 0.3382 - val_accuracy: 0.8553\n",
      "Epoch 13/30\n",
      "262/262 [==============================] - 6s 24ms/step - loss: 0.3517 - accuracy: 0.8474 - val_loss: 0.3386 - val_accuracy: 0.8543\n",
      "Epoch 14/30\n",
      "262/262 [==============================] - 6s 24ms/step - loss: 0.3485 - accuracy: 0.8484 - val_loss: 0.3367 - val_accuracy: 0.8536\n",
      "Epoch 15/30\n",
      "262/262 [==============================] - 6s 25ms/step - loss: 0.3486 - accuracy: 0.8499 - val_loss: 0.3395 - val_accuracy: 0.8526\n",
      "Epoch 16/30\n",
      "262/262 [==============================] - 7s 26ms/step - loss: 0.3500 - accuracy: 0.8453 - val_loss: 0.3365 - val_accuracy: 0.8543\n",
      "Epoch 17/30\n",
      "262/262 [==============================] - 7s 25ms/step - loss: 0.3471 - accuracy: 0.8491 - val_loss: 0.3336 - val_accuracy: 0.8560\n",
      "Epoch 18/30\n",
      "262/262 [==============================] - 6s 24ms/step - loss: 0.3492 - accuracy: 0.8463 - val_loss: 0.3471 - val_accuracy: 0.8509\n",
      "Epoch 19/30\n",
      "262/262 [==============================] - 6s 24ms/step - loss: 0.3477 - accuracy: 0.8503 - val_loss: 0.3355 - val_accuracy: 0.8543\n",
      "Epoch 20/30\n",
      "262/262 [==============================] - 7s 26ms/step - loss: 0.3472 - accuracy: 0.8482 - val_loss: 0.3393 - val_accuracy: 0.8529\n",
      "Epoch 21/30\n",
      "262/262 [==============================] - 7s 26ms/step - loss: 0.3447 - accuracy: 0.8491 - val_loss: 0.3342 - val_accuracy: 0.8580\n",
      "Epoch 22/30\n",
      "262/262 [==============================] - 6s 24ms/step - loss: 0.3519 - accuracy: 0.8475 - val_loss: 0.3492 - val_accuracy: 0.8509\n",
      "Epoch 23/30\n",
      "262/262 [==============================] - 7s 25ms/step - loss: 0.3492 - accuracy: 0.8470 - val_loss: 0.3366 - val_accuracy: 0.8553\n",
      "Epoch 24/30\n",
      "262/262 [==============================] - 6s 24ms/step - loss: 0.3485 - accuracy: 0.8476 - val_loss: 0.3353 - val_accuracy: 0.8529\n",
      "Epoch 25/30\n",
      "262/262 [==============================] - 7s 25ms/step - loss: 0.3461 - accuracy: 0.8482 - val_loss: 0.3356 - val_accuracy: 0.8570\n",
      "Epoch 26/30\n",
      "262/262 [==============================] - 7s 26ms/step - loss: 0.3483 - accuracy: 0.8472 - val_loss: 0.3380 - val_accuracy: 0.8553\n",
      "Epoch 27/30\n",
      "262/262 [==============================] - 6s 24ms/step - loss: 0.3468 - accuracy: 0.8502 - val_loss: 0.3445 - val_accuracy: 0.8546\n",
      "Epoch 28/30\n",
      "262/262 [==============================] - 6s 23ms/step - loss: 0.3487 - accuracy: 0.8465 - val_loss: 0.3352 - val_accuracy: 0.8560\n",
      "Epoch 29/30\n",
      "262/262 [==============================] - 6s 24ms/step - loss: 0.3447 - accuracy: 0.8512 - val_loss: 0.3401 - val_accuracy: 0.8567\n",
      "Epoch 30/30\n",
      "262/262 [==============================] - 6s 24ms/step - loss: 0.3449 - accuracy: 0.8480 - val_loss: 0.3478 - val_accuracy: 0.8523\n"
     ]
    }
   ],
   "source": [
    "history = run_experiment(baseline_model, X_train, Y_train)"
   ]
  },
  {
   "cell_type": "code",
   "execution_count": 9,
   "metadata": {},
   "outputs": [
    {
     "data": {
      "image/png": "[encoded data removed]",
      "text/plain": [
       "<Figure size 1500x500 with 2 Axes>"
      ]
     },
     "metadata": {},
     "output_type": "display_data"
    }
   ],
   "source": [
    "display_learning_curves(history)"
   ]
  },
  {
   "cell_type": "code",
   "execution_count": 17,
   "metadata": {},
   "outputs": [
    {
     "name": "stdout",
     "output_type": "stream",
     "text": [
      "input_features\n",
      "[]\n",
      "\n",
      "\n",
      "ffn_block1\n",
      "sub batch_normalization\n",
      "sub dropout\n",
      "sub dense\n",
      "sub batch_normalization_1\n",
      "sub dropout_1\n",
      "sub dense_1\n",
      "\n",
      "\n",
      "ffn_block3\n",
      "sub batch_normalization_2\n",
      "sub dropout_2\n",
      "sub dense_2\n",
      "sub batch_normalization_3\n",
      "sub dropout_3\n",
      "sub dense_3\n",
      "\n",
      "\n",
      "skip_connection1\n",
      "[]\n",
      "\n",
      "\n",
      "ffn_block4\n",
      "sub batch_normalization_4\n",
      "sub dropout_4\n",
      "sub dense_4\n",
      "sub batch_normalization_5\n",
      "sub dropout_5\n",
      "sub dense_5\n",
      "\n",
      "\n",
      "skip_connection2\n",
      "[]\n",
      "\n",
      "\n",
      "ffn_block5\n",
      "sub batch_normalization_6\n",
      "sub dropout_6\n",
      "sub dense_6\n",
      "\n",
      "\n",
      "logits\n",
      "[array([[ 0.00593041, -0.19112371],\n",
      "       [-0.34644532,  0.04291009],\n",
      "       [-0.13894072,  0.17283773],\n",
      "       [ 0.31908426,  0.19140893],\n",
      "       [-0.15165512, -0.16510542],\n",
      "       [-0.13357161, -0.46471375],\n",
      "       [ 0.05216409, -0.2090729 ],\n",
      "       [-0.48932514, -0.17850216],\n",
      "       [-0.19384581,  0.08505918],\n",
      "       [-0.3190605 , -0.2779459 ],\n",
      "       [-0.02250399, -0.11890879],\n",
      "       [ 0.00746107,  0.3551814 ],\n",
      "       [-0.22932635,  0.0839152 ],\n",
      "       [-0.40498263, -0.29257786],\n",
      "       [-0.1858233 , -0.21705401],\n",
      "       [ 0.2687831 , -0.1077944 ]], dtype=float32), array([-0.11191539,  0.11191218], dtype=float32)]\n",
      "\n",
      "\n"
     ]
    }
   ],
   "source": [
    "for layer in baseline_model.layers:\n",
    "    print(layer.name)\n",
    "\n",
    "    if hasattr(layer, \"layers\"):\n",
    "        for sub_layer in layer.layers:\n",
    "            print('sub', sub_layer.name)\n",
    "    else:\n",
    "        weights=layer.get_weights()\n",
    "        print(weights)\n",
    "\n",
    "    print('\\n')"
   ]
  },
  {
   "cell_type": "code",
   "execution_count": 21,
   "metadata": {},
   "outputs": [
    {
     "name": "stdout",
     "output_type": "stream",
     "text": [
      "(5, 32) (32,)\n"
     ]
    }
   ],
   "source": [
    "weights=baseline_model.get_layer(name='ffn_block1').get_layer(name='dense').get_weights()\n",
    "\n",
    "print(weights[0].shape, weights[1].shape)"
   ]
  },
  {
   "cell_type": "code",
   "execution_count": 20,
   "metadata": {},
   "outputs": [
    {
     "data": {
      "text/plain": [
       "2"
      ]
     },
     "execution_count": 20,
     "metadata": {},
     "output_type": "execute_result"
    }
   ],
   "source": [
    "len(weights)"
   ]
  },
  {
   "cell_type": "code",
   "execution_count": null,
   "metadata": {},
   "outputs": [],
   "source": []
  }
 ],
 "metadata": {
  "kernelspec": {
   "display_name": "Python 3.8.13 ('mlp')",
   "language": "python",
   "name": "python3"
  },
  "language_info": {
   "codemirror_mode": {
    "name": "ipython",
    "version": 3
   },
   "file_extension": ".py",
   "mimetype": "text/x-python",
   "name": "python",
   "nbconvert_exporter": "python",
   "pygments_lexer": "ipython3",
   "version": "3.8.13"
  },
  "orig_nbformat": 4,
  "vscode": {
   "interpreter": {
    "hash": "4976e0179d97dd6d59b1329a76e601e17b789c2571b41c8b57f5fd69821c0dd3"
   }
  }
 },
 "nbformat": 4,
 "nbformat_minor": 2
}
